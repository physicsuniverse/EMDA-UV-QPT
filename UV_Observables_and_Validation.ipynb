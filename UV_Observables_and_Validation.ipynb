{
 "cells": [
  {
   "cell_type": "markdown",
   "id": "5bf44497",
   "metadata": {},
   "source": [
    "# UV Physical Observables and Validation\n",
    "\n",
    "This notebook demonstrates the calculation of UV physical observables and validates the numerical solutions through residual analysis.\n",
    "\n",
    "## Physical Context\n",
    "\n",
    "This analysis focuses on:\n",
    "1. **Residual validation**: Checking the accuracy of our numerical background solutions\n",
    "2. **UV observable extraction**: Computing $S$, $I$, $E_W$, and high-frequency conductivity $\\sigma_{AC}$\n",
    "\n",
    "## Key UV Observables\n",
    "\n",
    "- **$S$**: Entanglement entropy\n",
    "- **$I$** and **$E_W$**: Information measure\n",
    "- **$\\sigma_{AC}$**: High-frequency AC conductivity in UV regime"
   ]
  },
  {
   "cell_type": "markdown",
   "id": "1f33d8a2",
   "metadata": {},
   "source": [
    "## Setup: Load Background Solutions and EOM\n",
    "\n",
    "Import the background solutions and equations of motion for validation analysis."
   ]
  },
  {
   "cell_type": "code",
   "execution_count": 1,
   "id": "cc5d7228",
   "metadata": {
    "vscode": {
     "languageId": "wolfram"
    }
   },
   "outputs": [
    {
     "name": "stdout",
     "output_type": "stream",
     "text": [
      "EOM loaded successfully\n",
      "EOM dimensions: {5}\n",
      "Bulk field functions defined: {U, V1, V2, a, \\[Phi]}\n",
      "Background solutions loaded successfully\n",
      "BG structure: {3, 3, 5}\n",
      "BG data overview: {{{1.175741861296702440296577718556782556372447878969563465\\\n",
      " \n",
      ">        5874982239414923057711 + <<149>>, <<4>>}, <<2>>}, <<2>>}\n"
     ]
    }
   ],
   "source": [
    "(* Load equations of motion *)\n",
    "eom = <<\"data/eom\"; \n",
    "Print[\"EOM loaded successfully\"];\n",
    "Print[\"EOM dimensions: \", Dimensions[eom]];\n",
    "\n",
    "(* Define bulk field functions *)\n",
    "func = {U, V1, V2, a, ϕ};\n",
    "Print[\"Bulk field functions defined: \", func];\n",
    "\n",
    "(* Load background solutions in {Tlist, klist} format *)\n",
    "BG = <<\"data/BG\"; \n",
    "Print[\"Background solutions loaded successfully\"];\n",
    "Print[\"BG structure: \", Dimensions[BG]];\n",
    "Print[\"BG data overview: \", Short[BG, 2]];"
   ]
  },
  {
   "cell_type": "markdown",
   "id": "ad7c0b84",
   "metadata": {},
   "source": [
    "## Critical Parameter Setup\n",
    "\n",
    "Define the critical parameter values where quantum phase transitions occur."
   ]
  },
  {
   "cell_type": "code",
   "execution_count": 13,
   "id": "2047ae6f",
   "metadata": {
    "vscode": {
     "languageId": "wolfram"
    }
   },
   "outputs": [
    {
     "name": "stdout",
     "output_type": "stream",
     "text": [
      "Critical parameters defined:\n",
      "k-values: {0.372152, 0.429114, 0.486076}\n",
      "\\[Mu]-values (6 decimal precision): {3.43906, 3.33475, 3.20998}\n",
      "T-values (6 decimal precision): {0.00100000, 0.00524665, 0.0105112}\n",
      "Parameter relationships verified: T = (12-\\[Mu]\\262)/(16\\[Pi]\\[Mu])\n"
     ]
    }
   ],
   "source": [
    "(* Critical k-values corresponding to quantum phase transitions *)\n",
    "klist := {147/395, 339/790, 192/395};\n",
    "\n",
    "(* Chemical potential values at critical points *)  \n",
    "mulist := {3.4390600442094231898208939060080662978705855069034261702880626740724, \n",
    "           3.33474771922771782320033168902014571237394126955217509833526475912, \n",
    "           3.20998456875896657013933105903581252167098329657948647991223913379};\n",
    "\n",
    "(* Temperature-chemical potential relationship: T = (12-μ²)/(16πμ) *)\n",
    "Tlist = (12 - mulist^2)/(16 π mulist);\n",
    "\n",
    "Print[\"Critical parameters defined:\"];\n",
    "Print[\"k-values: \", N[klist, 6]];  \n",
    "Print[\"μ-values (6 decimal precision): \", N[mulist, 6]];\n",
    "Print[\"T-values (6 decimal precision): \", N[Tlist, 6]];\n",
    "Print[\"Parameter relationships verified: T = (12-μ²)/(16πμ)\"];"
   ]
  },
  {
   "cell_type": "markdown",
   "id": "56ea21d0",
   "metadata": {},
   "source": [
    "## Metric Ansatz and Parameter Substitutions\n",
    "\n",
    "Set up the holographic coordinate transformations and parameter substitutions."
   ]
  },
  {
   "cell_type": "code",
   "execution_count": 24,
   "id": "35ce8259",
   "metadata": {
    "vscode": {
     "languageId": "wolfram"
    }
   },
   "outputs": [
    {
     "name": "stdout",
     "output_type": "stream",
     "text": [
      "Metric ansatz P -> U transformation defined\n",
      "Form: P = U(1-z)(1 + z + z\\262 - \\[Mu]\\262z\\263/4)\n",
      "Background solution replacement rules created\n",
      "Maps bulk fields to numerical solutions: 5 functions\n",
      "Parameter replacement rules for first critical point:\n",
      "\\[Mu] = 3.43906\n",
      "k = 0.429114\n",
      "\\[Gamma] = -1/6\n",
      "Substitution rules prepared for critical point analysis\n"
     ]
    }
   ],
   "source": [
    "(* Metric ansatz: P = U(1-z)(1+z+z²-μ²z³/4) *)\n",
    "repPtoU = P -> Function[z, (1 - z) U[z] (1 + z + z^2 - μ^2 z^3/4)];\n",
    "Print[\"Metric ansatz P -> U transformation defined\"];\n",
    "Print[\"Form: P = U(1-z)(1 + z + z² - μ²z³/4)\"];\n",
    "\n",
    "(* Background solution replacement *)\n",
    "NBGrep = Thread[func -> Evaluate[Function[z, BG[[1, 2]][[#]] // Evaluate] & /@ Range[5]]];\n",
    "Print[\"Background solution replacement rules created\"];\n",
    "Print[\"Maps bulk fields to numerical solutions: \", Length[NBGrep], \" functions\"];\n",
    "\n",
    "(* Parameter replacement for first critical point *)\n",
    "paramRep = {khat -> μ1 k, γ -> -1/6, μ -> μ1} /. μ1 -> mulist[[1]] /. \n",
    "           k -> SetPrecision[klist[[2]], 4 MachinePrecision];\n",
    "Print[\"Parameter replacement rules for first critical point:\"];\n",
    "Print[\"μ = \", N[mulist[[1]], 6]];\n",
    "Print[\"k = \", N[klist[[2]], 6]];\n",
    "Print[\"γ = -1/6\"];\n",
    "Print[\"Substitution rules prepared for critical point analysis\"];"
   ]
  },
  {
   "cell_type": "markdown",
   "id": "70d53448",
   "metadata": {},
   "source": [
    "## EOM Residual Validation\n",
    "\n",
    "Check the accuracy of our background solutions by computing residuals of the equations of motion."
   ]
  },
  {
   "cell_type": "code",
   "execution_count": 39,
   "id": "62220077",
   "metadata": {
    "vscode": {
     "languageId": "wolfram"
    }
   },
   "outputs": [
    {
     "name": "stdout",
     "output_type": "stream",
     "text": [
      "EOM residuals calculated\n",
      "Residual structure: {5}\n"
     ]
    }
   ],
   "source": [
    "(* Calculate residuals: how close the background solutions come to satisfying EOM = 0 *)\n",
    "residualsEOM = eom /. repPtoU /. NBGrep /. paramRep;\n",
    "Print[\"EOM residuals calculated\"];\n",
    "Print[\"Residual structure: \", Dimensions[residualsEOM]];\n",
    "\n",
    "(* Evaluate residuals at specific points for numerical assessment *)\n"
   ]
  },
  {
   "cell_type": "code",
   "execution_count": 47,
   "id": "56afa832",
   "metadata": {
    "vscode": {
     "languageId": "wolfram"
    }
   },
   "outputs": [
    {
     "name": "stdout",
     "output_type": "stream",
     "text": [
      "Sample residual values at z = {0.1, 0.5, 0.9}:\n",
      "Residuals: \n"
     ]
    },
    {
     "data": {
      "text/html": [
       "<div><pre style=\"&#102;&#111;&#110;&#116;&#45;&#102;&#97;&#109;&#105;&#108;&#121;&#58;&#32;&#34;&#67;&#111;&#117;&#114;&#105;&#101;&#114;&#32;&#78;&#101;&#119;&#34;&#44;&#67;&#111;&#117;&#114;&#105;&#101;&#114;&#44;&#109;&#111;&#110;&#111;&#115;&#112;&#97;&#99;&#101;&#59;\">&#32;&#32;&#32;&#32;&#32;&#32;&#32;&#32;&#32;&#32;&#32;&#32;&#32;&#32;&#32;&#32;&#45;&#50;&#50;&#32;&#32;&#32;&#32;&#32;&#32;&#32;&#32;&#32;&#32;&#32;&#32;&#32;&#32;&#32;&#32;&#45;&#50;&#50;&#32;&#32;&#32;&#32;&#32;&#32;&#32;&#32;&#32;&#32;&#32;&#32;&#32;&#32;&#32;&#32;&#45;&#50;&#52;&#32;&#32;&#32;&#32;&#32;&#32;&#32;&#32;&#32;&#32;&#32;&#32;&#32;&#32;&#32;&#32;&#45;&#50;&#52;&#10;&#123;&#123;&#49;&#46;&#55;&#53;&#53;&#49;&#57;&#54;&#56;&#51;&#49;&#32;&#49;&#48;&#32;&#32;&#32;&#44;&#32;&#49;&#46;&#56;&#55;&#50;&#48;&#50;&#50;&#52;&#50;&#50;&#32;&#49;&#48;&#32;&#32;&#32;&#44;&#32;&#52;&#46;&#48;&#55;&#57;&#54;&#53;&#53;&#57;&#55;&#52;&#32;&#49;&#48;&#32;&#32;&#32;&#44;&#32;&#49;&#46;&#53;&#57;&#57;&#48;&#51;&#49;&#54;&#52;&#53;&#32;&#49;&#48;&#32;&#32;&#32;&#44;&#32;&#10;&#32;&#10;&#32;&#32;&#32;&#32;&#32;&#32;&#32;&#32;&#32;&#32;&#32;&#32;&#32;&#32;&#32;&#32;&#32;&#32;&#32;&#45;&#50;&#52;&#32;&#32;&#32;&#32;&#32;&#32;&#32;&#32;&#32;&#32;&#32;&#32;&#32;&#32;&#32;&#32;&#32;&#32;&#45;&#50;&#50;&#32;&#32;&#32;&#32;&#32;&#32;&#32;&#32;&#32;&#32;&#32;&#32;&#32;&#32;&#32;&#32;&#45;&#50;&#51;&#32;&#32;&#32;&#32;&#32;&#32;&#32;&#32;&#32;&#32;&#32;&#32;&#32;&#32;&#32;&#32;&#45;&#50;&#53;&#10;&#62;&#32;&#32;&#32;&#32;&#50;&#46;&#49;&#55;&#55;&#52;&#53;&#54;&#54;&#50;&#56;&#32;&#49;&#48;&#32;&#32;&#32;&#125;&#44;&#32;&#123;&#50;&#46;&#52;&#56;&#51;&#57;&#51;&#51;&#51;&#48;&#52;&#32;&#49;&#48;&#32;&#32;&#32;&#44;&#32;&#51;&#46;&#49;&#50;&#55;&#48;&#49;&#49;&#50;&#56;&#55;&#32;&#49;&#48;&#32;&#32;&#32;&#44;&#32;&#52;&#46;&#52;&#50;&#55;&#52;&#54;&#57;&#57;&#50;&#50;&#32;&#49;&#48;&#32;&#32;&#32;&#44;&#32;&#10;&#32;&#10;&#32;&#32;&#32;&#32;&#32;&#32;&#32;&#32;&#32;&#32;&#32;&#32;&#32;&#32;&#32;&#32;&#32;&#32;&#32;&#32;&#45;&#50;&#54;&#32;&#32;&#32;&#32;&#32;&#32;&#32;&#32;&#32;&#32;&#32;&#32;&#32;&#32;&#32;&#32;&#45;&#50;&#53;&#10;&#62;&#32;&#32;&#32;&#32;&#45;&#51;&#46;&#56;&#57;&#52;&#50;&#51;&#55;&#56;&#55;&#50;&#32;&#49;&#48;&#32;&#32;&#32;&#44;&#32;&#53;&#46;&#48;&#50;&#55;&#51;&#56;&#49;&#54;&#54;&#57;&#32;&#49;&#48;&#32;&#32;&#32;&#125;&#44;&#32;&#10;&#32;&#10;&#32;&#32;&#32;&#32;&#32;&#32;&#32;&#32;&#32;&#32;&#32;&#32;&#32;&#32;&#32;&#32;&#32;&#32;&#32;&#32;&#45;&#50;&#50;&#32;&#32;&#32;&#32;&#32;&#32;&#32;&#32;&#32;&#32;&#32;&#32;&#32;&#32;&#32;&#32;&#32;&#45;&#50;&#51;&#32;&#32;&#32;&#32;&#32;&#32;&#32;&#32;&#32;&#32;&#32;&#32;&#32;&#32;&#32;&#32;&#32;&#45;&#50;&#51;&#32;&#32;&#32;&#32;&#32;&#32;&#32;&#32;&#32;&#32;&#32;&#32;&#32;&#32;&#32;&#32;&#45;&#50;&#54;&#10;&#62;&#32;&#32;&#32;&#123;&#45;&#50;&#46;&#52;&#57;&#57;&#54;&#49;&#51;&#54;&#55;&#56;&#32;&#49;&#48;&#32;&#32;&#32;&#44;&#32;&#45;&#52;&#46;&#51;&#53;&#57;&#52;&#52;&#49;&#49;&#48;&#57;&#32;&#49;&#48;&#32;&#32;&#32;&#44;&#32;&#45;&#49;&#46;&#51;&#48;&#56;&#49;&#55;&#55;&#54;&#49;&#56;&#32;&#49;&#48;&#32;&#32;&#32;&#44;&#32;&#52;&#46;&#55;&#57;&#53;&#56;&#51;&#48;&#54;&#52;&#51;&#32;&#49;&#48;&#32;&#32;&#32;&#44;&#32;&#10;&#32;&#10;&#32;&#32;&#32;&#32;&#32;&#32;&#32;&#32;&#32;&#32;&#32;&#32;&#32;&#32;&#32;&#32;&#32;&#32;&#32;&#32;&#45;&#50;&#53;&#10;&#62;&#32;&#32;&#32;&#32;&#45;&#52;&#46;&#48;&#50;&#50;&#56;&#53;&#50;&#50;&#48;&#54;&#32;&#49;&#48;&#32;&#32;&#32;&#125;&#125;</pre></div>"
      ],
      "text/plain": [
       "                -22                -22                -24                -24\n",
       "{{1.755196831 10   , 1.872022422 10   , 4.079655974 10   , 1.599031645 10   , \n",
       " \n",
       "                   -24                  -22                -23                -25\n",
       ">    2.177456628 10   }, {2.483933304 10   , 3.127011287 10   , 4.427469922 10   , \n",
       " \n",
       "                    -26                -25\n",
       ">    -3.894237872 10   , 5.027381669 10   }, \n",
       " \n",
       "                    -22                 -23                 -23                -26\n",
       ">   {-2.499613678 10   , -4.359441109 10   , -1.308177618 10   , 4.795830643 10   , \n",
       " \n",
       "                    -25\n",
       ">    -4.022852206 10   }}"
      ]
     },
     "execution_count": 47,
     "metadata": {
      "text/html": [],
      "text/plain": []
     },
     "output_type": "execute_result"
    }
   ],
   "source": [
    "residualSample = Table[residualsEOM /. z -> zval, {zval, {1/10, 5/10, 9/10}}];\n",
    "Print[\"Sample residual values at z = {0.1, 0.5, 0.9}:\"];\n",
    "Print[\"Residuals: \" ];\n",
    "N[residualSample, 10]"
   ]
  },
  {
   "cell_type": "code",
   "execution_count": 87,
   "id": "d904ab6a",
   "metadata": {
    "vscode": {
     "languageId": "wolfram"
    }
   },
   "outputs": [
    {
     "name": "stdout",
     "output_type": "stream",
     "text": [
      "Computing EOM residuals across the holographic coordinate z \\[Element] [0,1]\n",
      "Residual plot generated\n",
      "Small residuals (< 10^-18) indicate high reliability of numerical solutions\n"
     ]
    },
    {
     "data": {
      "text/html": [
       "<div><img alt=\"Output\" src=\"data:image/png;base64,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\"></div>"
      ],
      "text/plain": [
       "Legended[-Graphics-, Placed[LineLegend[{Directive[Opacity[1.], \n",
       " \n",
       ">       RGBColor[0.368417, 0.506779, 0.709798], AbsoluteThickness[1.6]], \n",
       " \n",
       ">      Directive[Opacity[1.], RGBColor[0.880722, 0.611041, 0.142051], \n",
       " \n",
       ">       AbsoluteThickness[1.6]], Directive[Opacity[1.], \n",
       " \n",
       ">       RGBColor[0.560181, 0.691569, 0.194885], AbsoluteThickness[1.6]], \n",
       " \n",
       ">      Directive[Opacity[1.], RGBColor[0.922526, 0.385626, 0.209179], \n",
       " \n",
       ">       AbsoluteThickness[1.6]], Directive[Opacity[1.], \n",
       " \n",
       ">       RGBColor[0.528488, 0.470624, 0.701351], AbsoluteThickness[1.6]]}, \n",
       " \n",
       ">     {U equation, V1 equation, V2 equation, a equation, φ equation}, \n",
       " \n",
       ">     LegendMarkers -> None, LabelStyle -> {}, LegendLayout -> Column], After, Identity]]"
      ]
     },
     "execution_count": 87,
     "metadata": {
      "text/html": [],
      "text/plain": []
     },
     "output_type": "execute_result"
    }
   ],
   "source": [
    "Print[\"Computing EOM residuals across the holographic coordinate z ∈ [0,1]\"];\n",
    "(* Plot residuals to visualize numerical accuracy *)\n",
    "residualPlot = Plot[Evaluate[residualsEOM], {z, 0, 1}, \n",
    "                   PlotLegends -> {\"U equation\", \"V1 equation\", \"V2 equation\", \n",
    "                                  \"a equation\", \"φ equation\"},\n",
    "                                  WorkingPrecision -> 30,\n",
    "                                  PlotRange -> All,\n",
    "                   PlotLabel -> \"EOM Residuals: Validation of Background Solutions\",\n",
    "                   AxesLabel -> {\"z (holographic coordinate)\", \"Residual magnitude\"}];\n",
    "\n",
    "residualPlot\n",
    "\n",
    "Print[\"Residual plot generated\"];\n",
    "Print[\"Small residuals (< 10^-18) indicate high reliability of numerical solutions\"];"
   ]
  },
  {
   "cell_type": "markdown",
   "id": "21f46845",
   "metadata": {},
   "source": [
    "## UV Observable Extraction: $ S $, $ I $, and $E_W$\n",
    "\n",
    "Extract the key UV observables from the boundary expansions of the background solutions."
   ]
  },
  {
   "cell_type": "code",
   "execution_count": 90,
   "id": "aaaa81ba",
   "metadata": {
    "vscode": {
     "languageId": "wolfram"
    }
   },
   "outputs": [
    {
     "name": "stdout",
     "output_type": "stream",
     "text": [
      "S observable extraction (V1[1] coefficient):\n",
      "S = V1[1] = {4.61276, 4.33300, 4.04823}\n",
      "U[3] coefficient extracted: {179.471, 185.911, 193.378}\n",
      "V1[3] coefficient extracted: {225.792, 242.153, 259.524}\n",
      "V2[3] coefficient extracted: {180.634, 187.044, 194.438}\n",
      "UV Observable Summary:\n",
      "S (entanglement entropy coeff) = {4.61276, 4.33300, 4.04823}\n",
      "I = E_W (mixed state entanglement measure) = {-407.588, -430.329, -455.022}\n",
      "\n",
      "Individual third-order components:\n",
      "  U[3] = {179.471, 185.911, 193.378}\n",
      "  V1[3] = {225.792, 242.153, 259.524}\n",
      "  V2[3] = {180.634, 187.044, 194.438}\n",
      "Formula verification: I = U[3] - V1[3] - 2 V2[3] = \n",
      " \n",
      ">   {-407.588, -430.329, -455.022}\n"
     ]
    }
   ],
   "source": [
    "(* Extract S = V1[1] from series expansion of V1[z] at z=0 *)\n",
    "SObservable = SeriesCoefficient[BG[[1, All, 2]] // Evaluate, {z, 0, 1}, Assumptions -> z > 0];\n",
    "Print[\"S observable extraction (V1[1] coefficient):\"];\n",
    "Print[\"S = V1[1] = \", N[SObservable, 6]];\n",
    "\n",
    "(* Extract higher-order coefficients for I and EW analysis *)\n",
    "(* U[3] coefficient *)\n",
    "U3Coeff = SeriesCoefficient[BG[[1, All, 1]] // Evaluate, {z, 0, 3}, Assumptions -> z > 0];\n",
    "Print[\"U[3] coefficient extracted: \", N[U3Coeff, 6]];\n",
    "\n",
    "(* V1[3] coefficient *) \n",
    "V13Coeff = SeriesCoefficient[BG[[1, All, 2]] // Evaluate, {z, 0, 3}, Assumptions -> z > 0];\n",
    "Print[\"V1[3] coefficient extracted: \", N[V13Coeff, 6]];\n",
    "\n",
    "(* V2[3] coefficient *)\n",
    "V23Coeff = SeriesCoefficient[BG[[1, All, 3]] // Evaluate, {z, 0, 3}, Assumptions -> z > 0];\n",
    "Print[\"V2[3] coefficient extracted: \", N[V23Coeff, 6]];\n",
    "\n",
    "(* Combined I = E_W observable: I = U[3] - V1[3] - 2*V2[3] *)\n",
    "IEWObservable = U3Coeff - V13Coeff - 2*V23Coeff;\n",
    "\n",
    "Print[\"UV Observable Summary:\"];\n",
    "Print[\"S (entanglement entropy coeff) = \", N[SObservable, 6]];\n",
    "Print[\"I = E_W (mixed state entanglement measure) = \", N[IEWObservable, 6]];\n",
    "Print[\"\"];\n",
    "Print[\"Individual third-order components:\"];\n",
    "Print[\"  U[3] = \", N[U3Coeff, 6]];  \n",
    "Print[\"  V1[3] = \", N[V13Coeff, 6]];\n",
    "Print[\"  V2[3] = \", N[V23Coeff, 6]];\n",
    "Print[\"Formula verification: I = U[3] - V1[3] - 2 V2[3] = \", N[U3Coeff - V13Coeff - 2*V23Coeff, 6]];"
   ]
  },
  {
   "cell_type": "markdown",
   "id": "b5911101",
   "metadata": {},
   "source": [
    "## Perturbation Analysis: δEOM Residuals\n",
    "\n",
    "Load and validate the perturbation equations that govern the response functions."
   ]
  },
  {
   "cell_type": "code",
   "execution_count": 115,
   "id": "86dd101b",
   "metadata": {
    "vscode": {
     "languageId": "wolfram"
    }
   },
   "outputs": [
    {
     "name": "stdout",
     "output_type": "stream",
     "text": [
      "Perturbation EOM loaded successfully\n",
      "Perturbation EOM dimensions: {3}\n",
      "Perturbation background solutions loaded successfully\n",
      "dBG structure: {2, 3, 3}\n",
      "Perturbation variables defined: {dhtx, d\\[Chi], dax}\n",
      "Perturbation analysis setup complete\n"
     ]
    }
   ],
   "source": [
    "(* Load perturbation equations of motion for {dhtx[z], dχ[z], dax[z]} *)\n",
    "deomAll = <<\"data/deomall\";\n",
    "Print[\"Perturbation EOM loaded successfully\"];\n",
    "Print[\"Perturbation EOM dimensions: \", Dimensions[deomAll]];\n",
    "\n",
    "(* Load perturbation background solutions *)\n",
    "dBGSolutions = <<\"data/dBG\";\n",
    "Print[\"Perturbation background solutions loaded successfully\"];\n",
    "Print[\"dBG structure: \", Dimensions[dBGSolutions]];\n",
    "\n",
    "(* Define perturbation variables *)\n",
    "pertVars = {dhtx, dχ, dax};\n",
    "Print[\"Perturbation variables defined: \", pertVars];\n",
    "\n",
    "Print[\"Perturbation analysis setup complete\"];"
   ]
  },
  {
   "cell_type": "markdown",
   "id": "114734ae",
   "metadata": {},
   "source": [
    "## High-Precision Perturbation Setup\n",
    "\n",
    "Configure high-precision parameters for perturbation analysis excluding the T≈0 regime."
   ]
  },
  {
   "cell_type": "code",
   "execution_count": 127,
   "id": "26a1b032",
   "metadata": {
    "vscode": {
     "languageId": "wolfram"
    }
   },
   "outputs": [
    {
     "name": "stdout",
     "output_type": "stream",
     "text": [
      "High precision set to: 5 MachinePrecision digits\n",
      "Reduced parameter sets (excluding T~~0):\n",
      "\\[Mu] values: {3.33475, 3.20998}\n",
      "T values: {0.00524665, 0.0105112}\n",
      "Background field replacements created with high precision\n",
      "Parameter replacements for perturbation analysis:\n",
      "Active parameters: {khat -> 1.37745, \\[Lambda] -> 6.41997, \n",
      " \n",
      ">    \\[Gamma] -> -0.166667, \\[Mu] -> 3.20998}\n",
      "Perturbation EOM with all substitutions applied\n",
      "Frequency replacement: w -> 64.1997\n",
      "High-precision perturbation setup complete\n",
      "Analyzing critical region with \\[Mu] ~~ 3.210\n"
     ]
    }
   ],
   "source": [
    "(* Set high precision for critical behavior analysis *)\n",
    "highPrec = 5 MachinePrecision;\n",
    "Print[\"High precision set to: \", highPrec, \" digits\"];\n",
    "\n",
    "(* Use data excluding T≈0 regime (indices 2 and above) *)\n",
    "BGReduced = BG[[2;;]];\n",
    "muListReduced := mulist[[2;;]];\n",
    "TListReduced = Tlist[[2;;]];\n",
    "\n",
    "Print[\"Reduced parameter sets (excluding T≈0):\"];\n",
    "Print[\"μ values: \", N[muListReduced, 6]];\n",
    "Print[\"T values: \", N[TListReduced, 6]];\n",
    "\n",
    "(* Background field replacement for perturbation equations *)\n",
    "bgFieldRep = SetPrecision[\n",
    "    Thread[func -> (Function[z, #] & /@ BGReduced[[2, 2]])], \n",
    "    highPrec];\n",
    "Print[\"Background field replacements created with high precision\"];\n",
    "\n",
    "(* Parameter replacement for perturbation analysis *)\n",
    "paramRepPerturb = SetPrecision[\n",
    "    Thread[{khat, λ, γ, μ} -> {klist[[2]] μ1, 2 μ1, -1/6, μ1}] /. μ1 -> muListReduced[[2]], \n",
    "    highPrec];\n",
    "Print[\"Parameter replacements for perturbation analysis:\"];\n",
    "Print[\"Active parameters: \", N[paramRepPerturb, 6]];\n",
    "\n",
    "(* Final perturbation EOM with all substitutions *)\n",
    "pertEOMFinal = deomAll /. bgFieldRep /. paramRepPerturb;\n",
    "Print[\"Perturbation EOM with all substitutions applied\"];\n",
    "\n",
    "(* Frequency parameter replacement *)\n",
    "freqRep = w -> 20 muListReduced[[2]];\n",
    "Print[\"Frequency replacement: w -> \", N[20 muListReduced[[2]], 6]];\n",
    "\n",
    "Print[\"High-precision perturbation setup complete\"];\n",
    "Print[\"Analyzing critical region with μ ≈ \", N[muListReduced[[2]], 4]];"
   ]
  },
  {
   "cell_type": "markdown",
   "id": "7aa424fe",
   "metadata": {},
   "source": [
    "## Perturbation EOM Residual Analysis\n",
    "\n",
    "Validate the perturbation solutions by computing residuals for each perturbation field."
   ]
  },
  {
   "cell_type": "code",
   "execution_count": 165,
   "id": "eaaade6f",
   "metadata": {
    "vscode": {
     "languageId": "wolfram"
    }
   },
   "outputs": [
    {
     "name": "stdout",
     "output_type": "stream",
     "text": [
      "Perturbation solution replacements created\n",
      "Mapping: {dhtx, d\\[Chi], dax} -> numerical solutions\n",
      "Analyzing residuals for perturbation equation 1: dhtx[z]\n",
      "dhtx residual analysis time: 24.7751 seconds\n",
      "Sample dhtx residuals at z = {0.1, 0.5, 0.9}: \n",
      " \n",
      "                  -21              -20                -17              -17\n",
      ">   {{5.6374625 10   , 4.7066635 10   }, {2.6565298 10   , 4.8729755 10   }, \n",
      " \n",
      "                  -16              -16\n",
      ">    {1.4712105 10   , 2.2404186 10   }}\n",
      "Analyzing residuals for perturbation equation 2: d\\[Chi][z]\n",
      "dhtx residual Plot: \n"
     ]
    },
    {
     "data": {
      "text/html": [
       "<div><img alt=\"Output\" src=\"data:image/png;base64,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\"></div>"
      ],
      "text/plain": [
       "Legended[-Graphics-, Placed[LineLegend[{Directive[Opacity[1.], \n",
       " \n",
       ">       RGBColor[0.368417, 0.506779, 0.709798], AbsoluteThickness[1.6]], \n",
       " \n",
       ">      Directive[Opacity[1.], RGBColor[0.880722, 0.611041, 0.142051], \n",
       " \n",
       ">       AbsoluteThickness[1.6]]}, {Real part, Imaginary part}, LegendMarkers -> None, \n",
       " \n",
       ">     LabelStyle -> {}, LegendLayout -> Column], After, Identity]]"
      ]
     },
     "execution_count": 165,
     "metadata": {
      "text/html": [],
      "text/plain": []
     },
     "output_type": "execute_result"
    }
   ],
   "source": [
    "(* Perturbation field replacement *)\n",
    "pertSolRep = Thread[pertVars -> (Function[z, dBGSolutions[[2, 2]][[#]] // Evaluate] & /@ Range[3])];\n",
    "Print[\"Perturbation solution replacements created\"];\n",
    "Print[\"Mapping: \", pertVars, \" -> numerical solutions\"];\n",
    "\n",
    "Print[\"Analyzing residuals for perturbation equation 1: dhtx[z]\"];\n",
    "(* Plot residuals for dhtx perturbation *)\n",
    "residualTime1 = AbsoluteTiming[\n",
    "    residualPlot1 = Plot[{Re[pertEOMFinal[[1]] /. freqRep /. pertSolRep], \n",
    "                         Im[pertEOMFinal[[1]] /. freqRep /. pertSolRep]}//Evaluate, \n",
    "         {z, 0, 1}, \n",
    "         WorkingPrecision -> 30,\n",
    "         PlotLegends -> {\"Real part\", \"Imaginary part\"},\n",
    "         PlotLabel -> \"dhtx Residuals: δEOM₁ Validation\"];\n",
    "];\n",
    "\n",
    "\n",
    "Print[\"dhtx residual analysis time: \", residualTime1[[1]], \" seconds\"];\n",
    "\n",
    "(* Sample residual values for numerical assessment *)\n",
    "sampleResidual1 = Table[{Re[pertEOMFinal[[1]]], Im[pertEOMFinal[[1]]]} /. freqRep /. pertSolRep /. z -> zval, \n",
    "                       {zval, {1/10, 5/10, 9/10}}];\n",
    "Print[\"Sample dhtx residuals at z = {0.1, 0.5, 0.9}: \", N[sampleResidual1, 8]];\n",
    "\n",
    "Print[\"Analyzing residuals for perturbation equation 2: dχ[z]\"];\n",
    "\n",
    "Print[\"dhtx residual Plot: \"];\n",
    "residualPlot1\n"
   ]
  },
  {
   "cell_type": "code",
   "execution_count": 171,
   "id": "519b7bdf",
   "metadata": {
    "vscode": {
     "languageId": "wolfram"
    }
   },
   "outputs": [
    {
     "name": "stdout",
     "output_type": "stream",
     "text": [
      "d\\[Chi] residual analysis time: 181.991 seconds\n",
      "Analyzing residuals for perturbation equation 3: dax[z]\n",
      "d\\[Chi] residual Plot: \n"
     ]
    },
    {
     "data": {
      "text/html": [
       "<div><img alt=\"Output\" src=\"data:image/png;base64,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\"></div>"
      ],
      "text/plain": [
       "Legended[-Graphics-, Placed[LineLegend[{Directive[Opacity[1.], \n",
       " \n",
       ">       RGBColor[0.368417, 0.506779, 0.709798], AbsoluteThickness[1.6]], \n",
       " \n",
       ">      Directive[Opacity[1.], RGBColor[0.880722, 0.611041, 0.142051], \n",
       " \n",
       ">       AbsoluteThickness[1.6]]}, {Real part, Imaginary part}, LegendMarkers -> None, \n",
       " \n",
       ">     LabelStyle -> {}, LegendLayout -> Column], After, Identity]]"
      ]
     },
     "execution_count": 171,
     "metadata": {
      "text/html": [],
      "text/plain": []
     },
     "output_type": "execute_result"
    }
   ],
   "source": [
    "(* Plot residuals for dχ perturbation *)\n",
    "residualTime2 = AbsoluteTiming[\n",
    "    residualPlot2 = Plot[{Re[pertEOMFinal[[2]] /. freqRep /. pertSolRep], \n",
    "                         Im[pertEOMFinal[[2]] /. freqRep /. pertSolRep]}//Evaluate, \n",
    "         {z, 0, 1}, \n",
    "         WorkingPrecision -> 30,\n",
    "         PlotLegends -> {\"Real part\", \"Imaginary part\"},\n",
    "         PlotLabel -> \"dχ Residuals: δEOM₂ Validation\"];\n",
    "];\n",
    "Print[\"dχ residual analysis time: \", residualTime2[[1]], \" seconds\"];\n",
    "\n",
    "Print[\"Analyzing residuals for perturbation equation 3: dax[z]\"];\n",
    "\n",
    "Print[\"dχ residual Plot: \"];\n",
    "residualPlot2"
   ]
  },
  {
   "cell_type": "code",
   "execution_count": 177,
   "id": "a0cf538d",
   "metadata": {
    "vscode": {
     "languageId": "wolfram"
    }
   },
   "outputs": [
    {
     "name": "stdout",
     "output_type": "stream",
     "text": [
      "dax residual analysis time: 325.206 seconds\n",
      "dax residual Plot: \n"
     ]
    },
    {
     "data": {
      "text/html": [
       "<div><img alt=\"Output\" src=\"data:image/png;base64,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\"></div>"
      ],
      "text/plain": [
       "Legended[-Graphics-, Placed[LineLegend[{Directive[Opacity[1.], \n",
       " \n",
       ">       RGBColor[0.368417, 0.506779, 0.709798], AbsoluteThickness[1.6]], \n",
       " \n",
       ">      Directive[Opacity[1.], RGBColor[0.880722, 0.611041, 0.142051], \n",
       " \n",
       ">       AbsoluteThickness[1.6]]}, {Real part, Imaginary part}, LegendMarkers -> None, \n",
       " \n",
       ">     LabelStyle -> {}, LegendLayout -> Column], After, Identity]]"
      ]
     },
     "execution_count": 177,
     "metadata": {
      "text/html": [],
      "text/plain": []
     },
     "output_type": "execute_result"
    }
   ],
   "source": [
    "\n",
    "(* Plot residuals for dax perturbation *)  \n",
    "residualTime3 = AbsoluteTiming[\n",
    "    residualPlot3 = Plot[{Re[pertEOMFinal[[3]] /. freqRep /. pertSolRep], \n",
    "                         Im[pertEOMFinal[[3]] /. freqRep /. pertSolRep]}//Evaluate, \n",
    "         {z, 0, 1}, \n",
    "         WorkingPrecision -> 30,\n",
    "         PlotLegends -> {\"Real part\", \"Imaginary part\"}, \n",
    "         PlotLabel -> \"dax Residuals: δEOM₃ Validation\"];\n",
    "];\n",
    "Print[\"dax residual analysis time: \", residualTime3[[1]], \" seconds\"];\n",
    "\n",
    "Print[\"dax residual Plot: \"];\n",
    "residualPlot3\n"
   ]
  },
  {
   "cell_type": "code",
   "execution_count": 178,
   "id": "36f6fa5f",
   "metadata": {
    "vscode": {
     "languageId": "wolfram"
    }
   },
   "outputs": [
    {
     "name": "stdout",
     "output_type": "stream",
     "text": [
      "Perturbation residual analysis complete\n",
      "Total analysis time: 531.972 seconds\n",
      "Small residuals confirm reliability of perturbation solutions\n"
     ]
    }
   ],
   "source": [
    "Print[\"Perturbation residual analysis complete\"];\n",
    "Print[\"Total analysis time: \", residualTime1[[1]] + residualTime2[[1]] + residualTime3[[1]], \" seconds\"];\n",
    "Print[\"Small residuals confirm reliability of perturbation solutions\"];"
   ]
  },
  {
   "cell_type": "markdown",
   "id": "184423d0",
   "metadata": {},
   "source": [
    "## High-Frequency AC Conductivity Calculation\n",
    "\n",
    "Calculate the UV regime AC conductivity σ_AC, a key diagnostic for quantum phase transitions."
   ]
  },
  {
   "cell_type": "code",
   "execution_count": 181,
   "id": "86a6c8d1",
   "metadata": {
    "vscode": {
     "languageId": "wolfram"
    }
   },
   "outputs": [
    {
     "name": "stdout",
     "output_type": "stream",
     "text": [
      "Frequency replacements for conductivity analysis:\n",
      "w values: {66.6950, 64.1997}\n",
      "Parameter combinations prepared for \\[Sigma]_AC calculation\n",
      "Matrix structure: [\\[Mu]_index, k_index] with dimensions {2, 3, 4}\n"
     ]
    }
   ],
   "source": [
    "(* Frequency replacement for multiple parameter sets *)\n",
    "freqReps = Table[w -> 20 muListReduced[[idx]], {idx, Range[2]}];\n",
    "Print[\"Frequency replacements for conductivity analysis:\"];\n",
    "Print[\"w values: \", N[20 muListReduced, 6]];\n",
    "\n",
    "(* Parameter combinations for conductivity analysis *)\n",
    "paramCombinations = Table[\n",
    "    SetPrecision[\n",
    "        Thread[{khat, λ, γ, μ} -> {klist[[kk]] μ1, 2 μ1, -1/6, μ1}] /. μ1 -> muListReduced[[mumu]], \n",
    "        highPrec], \n",
    "    {mumu, Range[2]}, {kk, Range[3]}];\n",
    "Print[\"Parameter combinations prepared for σ_AC calculation\"];\n",
    "Print[\"Matrix structure: [μ_index, k_index] with dimensions \", Dimensions[paramCombinations]];"
   ]
  },
  {
   "cell_type": "code",
   "execution_count": 190,
   "id": "f0be592b",
   "metadata": {
    "vscode": {
     "languageId": "wolfram"
    }
   },
   "outputs": [
    {
     "name": "stdout",
     "output_type": "stream",
     "text": [
      "Calculating AC conductivity \\[Sigma]_AC for all parameter combinations...\n",
      "Computing \\[Sigma]_AC for \\[Mu]_index = 1, k_index = 1\n",
      "\\[Sigma]_AC[1,1] = 1.001260 - 0.000212 I\n",
      "Computing \\[Sigma]_AC for \\[Mu]_index = 1, k_index = 2\n",
      "\\[Sigma]_AC[1,2] = 1.001258 - 0.000214 I\n",
      "Computing \\[Sigma]_AC for \\[Mu]_index = 1, k_index = 3\n",
      "\\[Sigma]_AC[1,3] = 1.001255 - 0.000217 I\n",
      "Computing \\[Sigma]_AC for \\[Mu]_index = 2, k_index = 1\n",
      "\\[Sigma]_AC[2,1] = 1.001260 - 0.000212 I\n",
      "Computing \\[Sigma]_AC for \\[Mu]_index = 2, k_index = 2\n",
      "\\[Sigma]_AC[2,2] = 1.001258 - 0.000214 I\n",
      "Computing \\[Sigma]_AC for \\[Mu]_index = 2, k_index = 3\n",
      "\\[Sigma]_AC[2,3] = 1.001255 - 0.000217 I\n",
      "AC conductivity calculation complete\n",
      "Conductivity matrix structure: \\[Sigma]_AC[\\[Mu]_index, k_index]\n",
      "Full conductivity matrix (6 decimal precision):\n",
      "1.001260 - 0.000212 I   1.001258 - 0.000214 I   1.001255 - 0.000217 I\n",
      "\n",
      "1.001260 - 0.000212 I   1.001258 - 0.000214 I   1.001255 - 0.000217 I\n",
      "Conductivity range: {1.00125, 1.00126}\n",
      "Conductivity analysis provides key UV diagnostic for quantum phase\\\n",
      " \n",
      ">   transitions\n"
     ]
    }
   ],
   "source": [
    "(* Calculate high-frequency AC conductivity *)\n",
    "(* σ_AC = (1/iω) * d/dz[(1-z)^(-iω/(4πμT)) * dax[z]]|_{z=0} *)\n",
    "\n",
    "Print[\"Calculating AC conductivity σ_AC for all parameter combinations...\"];\n",
    "\n",
    "conductivityMatrix = Table[\n",
    "    Print[\"Computing σ_AC for μ_index = \", mumu, \", k_index = \", kk];\n",
    "    \n",
    "    (* Derivative of the holographic current at the boundary *)\n",
    "    conductivity = (D[(1 - z)^(-((I w)/(4 π μ T))) dax[z] /. T -> (12 - μ^2)/(16 π μ), z]/(I w) /. z -> 0 // Simplify);\n",
    "    \n",
    "    (* Regularization near z=0 to avoid numerical instabilities *)\n",
    "    conductivityReg = conductivity /. dax[0] -> dax[10^-15] /. dax'[0] -> dax'[10^-15];\n",
    "    \n",
    "    (* Apply frequency and parameter substitutions *)\n",
    "    conductivityFinal = conductivityReg /. freqReps[[mumu]] /. paramCombinations[[mumu, kk]];\n",
    "    \n",
    "    (* Use perturbation solution *)\n",
    "    conductivityResult = conductivityFinal /. dax -> Function[z, dBGSolutions[[mumu, kk, 3]] // Evaluate];\n",
    "    \n",
    "    Print[\"σ_AC[\", mumu, \",\", kk, \"] = \", N[conductivityResult, 6]];\n",
    "    conductivityResult,\n",
    "    \n",
    "    {mumu, Range[2]}, {kk, Range[3]}];\n",
    "\n",
    "    \n",
    "Print[\"AC conductivity calculation complete\"];\n",
    "Print[\"Conductivity matrix structure: σ_AC[μ_index, k_index]\"];\n",
    "Print[\"Full conductivity matrix (6 decimal precision):\"];\n",
    "Print[N[conductivityMatrix, 6] // MatrixForm];\n",
    "\n",
    "(* Summary statistics *)\n",
    "Print[\"Conductivity range: \", N[{Min[conductivityMatrix//Re], Max[conductivityMatrix//Re]}, 6]];\n",
    "Print[\"Conductivity analysis provides key UV diagnostic for quantum phase transitions\"];\n",
    "    "
   ]
  },
  {
   "cell_type": "markdown",
   "id": "3045d36c",
   "metadata": {},
   "source": [
    "## Physical Interpretation and Critical Behavior\n",
    "\n",
    "The UV observables calculated here demonstrate several key features:\n",
    "\n",
    "### $S$ Observable (Entanglement Entropy)\n",
    "- **Physical meaning**: short-range entanglement entropy\n",
    "- **Mathematical form**: $S = V_1[1]$ in the UV region\n",
    "- **Critical diagnostic**: Sensitive to quantum phase transition structure\n",
    "\n",
    "### $I, E_W$ Observable (Information-Theoretic)  \n",
    "- **Physical meaning**: $I$ stands for the mutual information related to entanglement wedge cross-section.\n",
    "- **Physical meaning**: Related to quantum information and EWCS (Entanglement Wedge Cross-Section), a mixed state entanglement measure\n",
    "- **Mathematical form**: $I = U[3] - V_1[3] - 2V_2[3]$ in the UV region\n",
    "- **Critical diagnostic**: Sensitive to quantum phase transition structure\n",
    "\n",
    "### High-Frequency Conductivity $\\sigma_{AC}$\n",
    "- **Physical meaning**: Response of the holographic system to high-frequency electromagnetic fields\n",
    "- **UV regime**: Frequency $\\omega \\gg T$ (temperature), accessing UV physics directly  \n",
    "- **Critical behavior**: Exhibits characteristic signatures at quantum critical points\n",
    "\n",
    "## Connection to Main Results\n",
    "\n",
    "These calculations provide the numerical foundation for:\n",
    "1. **Figure generation**: Data used in main paper figures showing UV observable extrema\n",
    "2. **Phase diagram construction**: Critical parameter identification\n",
    "3. **Robustness demonstration**: UV methods show robustness to temperature.\n",
    "\n",
    "The small residuals ($10^{-10}$) confirm the numerical reliability needed for detecting subtle quantum critical signatures in the UV region."
   ]
  }
 ],
 "metadata": {
  "kernelspec": {
   "display_name": "Wolfram Language 14",
   "language": "Wolfram Language",
   "name": "wolframlanguage14"
  },
  "language_info": {
   "codemirror_mode": "mathematica",
   "file_extension": ".m",
   "mimetype": "application/vnd.wolfram.m",
   "name": "Wolfram Language",
   "pygments_lexer": "mathematica",
   "version": "12.0"
  }
 },
 "nbformat": 4,
 "nbformat_minor": 5
}
